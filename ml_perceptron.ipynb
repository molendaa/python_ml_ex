{
 "cells": [
  {
   "cell_type": "code",
   "execution_count": 16,
   "id": "11cd1c5d",
   "metadata": {},
   "outputs": [],
   "source": [
    "import pandas as pd\n",
    "import matplotlib.pyplot as plt\n",
    "\n",
    "from mpl_toolkits.mplot3d import Axes3D\n",
    "from sklearn.decomposition import PCA\n",
    "from sklearn.linear_model import LinearRegression\n",
    "from sklearn.model_selection import train_test_split\n",
    "import seaborn as sns\n",
    "import numpy as np\n",
    "\n",
    "from sklearn.linear_model import Perceptron as pc\n",
    "from sklearn.preprocessing import StandardScaler\n",
    "from sklearn import datasets"
   ]
  },
  {
   "cell_type": "code",
   "execution_count": 3,
   "id": "ee5d4d5d",
   "metadata": {},
   "outputs": [],
   "source": [
    "# Rosenblatt's perceptron\n",
    "\n",
    "class Perceptron:\n",
    "    \n",
    "    def __init__(self, eta = 0.1, epochs = 10, is_verbose = False):\n",
    "        self.eta = eta\n",
    "        self.epochs = epochs\n",
    "        self.is_verbose = is_verbose\n",
    "        self.list_of_errors = []\n",
    "        \n",
    "    def __predict(self, x):\n",
    "        total_stimulation = np.dot(x,self.w)\n",
    "        # ***** optimised version *****\n",
    "        y_pred = np.where(total_stimulation > 0, 1, -1)\n",
    "        \n",
    "#         if total_stimulation > 0:\n",
    "#             y_pred = 1\n",
    "#         else:\n",
    "#             y_pred = -1\n",
    "\n",
    "        return y_pred\n",
    "        \n",
    "    def predict(self,x):\n",
    "        \n",
    "        ones = np.ones((x.shape[0], 1))\n",
    "        x_1 = np.append(x.copy(),ones,1)\n",
    "        \n",
    "        return self.__predict(x_1)\n",
    "        \n",
    "    \n",
    "    def fit(self, X, y):\n",
    "        \n",
    "        self.list_of_errors = []\n",
    "        \n",
    "        ones = np.ones((X.shape[0], 1))\n",
    "        X_1 = np.append(X.copy(),ones,1)\n",
    "        \n",
    "        self.w = np.random.rand(X_1.shape[1])\n",
    "        #  print('Initial w:')\n",
    "        #  print(w)\n",
    "\n",
    "        # for i in range(len(X_1)):\n",
    "        #     print(predict(X_1[i,],w))\n",
    "\n",
    "\n",
    "        for epoch in range(self.epochs):\n",
    "            \n",
    "            number_of_errors = 0\n",
    "            \n",
    "            # ***** optimised version *****\n",
    "            y_pred = self.__predict(X_1)\n",
    "            delta_w = self.eta * np.dot((y - y_pred),X_1)\n",
    "            self.w += delta_w\n",
    "            #print(w)\n",
    "            number_of_errors = np.count_nonzero(y - y_pred)\n",
    "            \n",
    "#             for x, y_target in zip(X_1,y):\n",
    "#                 y_pred = self.predict(x)\n",
    "#                 delta_w = self.eta*(y_target-y_pred)*x\n",
    "#                 self.w += delta_w\n",
    "#                 #print(w)\n",
    "#                 number_of_errors += 1 if y_target != y_pred else 0\n",
    "                \n",
    "            self.list_of_errors.append(number_of_errors)\n",
    "\n",
    "            if(self.is_verbose):\n",
    "                print(f'Epoch: {epoch}, weigths: {self.w}, number of errors: {number_of_errors}')\n",
    "                \n",
    "                \n",
    "                \n"
   ]
  },
  {
   "cell_type": "code",
   "execution_count": 4,
   "id": "d062e05f",
   "metadata": {},
   "outputs": [
    {
     "name": "stdout",
     "output_type": "stream",
     "text": [
      "[ 0.38438238 -2.26329744  3.4270602   0.72801547]\n",
      "[1]\n",
      "[-1]\n",
      "[1]\n"
     ]
    },
    {
     "data": {
      "text/plain": [
       "<matplotlib.collections.PathCollection at 0x7fcdf36a3730>"
      ]
     },
     "execution_count": 4,
     "metadata": {},
     "output_type": "execute_result"
    },
    {
     "data": {
      "image/png": "[encoded data removed]",
      "text/plain": [
       "<Figure size 640x480 with 1 Axes>"
      ]
     },
     "metadata": {},
     "output_type": "display_data"
    }
   ],
   "source": [
    "# X = np.arange(-25,25).reshape(10,5)\n",
    "# y = np.array([1, -1, -1, 1, -1, 1, -1, -1, 1, -1])\n",
    "\n",
    "X = np.array([\n",
    "    [2,4,20],       #2*2 - 3*4 + 20 =  12 > 0\n",
    "    [3,3,-15],      #2*3 - 3*3 - 15 = -18 < 0\n",
    "    [5,2,10],       #2*5 - 3*2 + 10 =  14 > 0\n",
    "    [3,6,3],        #2*3 - 3*6 + 3  =  -9 < 0\n",
    "    [6,2,2],        #2*6 - 3*2 - 2  =   4 > 0\n",
    "    #[2,4,-3]        #2*2 - 3*4 - 3 = -11 < 0\n",
    "])\n",
    "\n",
    "y = [1,-1,1,-1,1]\n",
    "\n",
    "perceptron = Perceptron(eta = 0.1, epochs = 50,is_verbose=False)\n",
    "perceptron.fit(X,y)\n",
    "\n",
    "print(perceptron.w)\n",
    "\n",
    "print(perceptron.predict(np.array([[2,4,20]])))\n",
    "print(perceptron.predict(np.array([[20,100,-1]])))\n",
    "print(perceptron.predict(np.array([[3,3,3]])))\n",
    "    \n",
    "plt.scatter(range(perceptron.epochs),perceptron.list_of_errors)"
   ]
  },
  {
   "cell_type": "code",
   "execution_count": 5,
   "id": "de7b8016",
   "metadata": {},
   "outputs": [
    {
     "name": "stdout",
     "output_type": "stream",
     "text": [
      "[  1.90747201 -10.4120455    3.93770814   1.23260142]\n"
     ]
    },
    {
     "ename": "ValueError",
     "evalue": "shapes (1,5) and (4,) not aligned: 5 (dim 1) != 4 (dim 0)",
     "output_type": "error",
     "traceback": [
      "\u001b[0;31m---------------------------------------------------------------------------\u001b[0m",
      "\u001b[0;31mValueError\u001b[0m                                Traceback (most recent call last)",
      "\u001b[0;32m/var/folders/gn/kx6xc1f932v5jmzl00v_j81c0000gn/T/ipykernel_3666/1021412356.py\u001b[0m in \u001b[0;36m<module>\u001b[0;34m\u001b[0m\n\u001b[1;32m     15\u001b[0m \u001b[0mprint\u001b[0m\u001b[0;34m(\u001b[0m\u001b[0mperceptron\u001b[0m\u001b[0;34m.\u001b[0m\u001b[0mw\u001b[0m\u001b[0;34m)\u001b[0m\u001b[0;34m\u001b[0m\u001b[0;34m\u001b[0m\u001b[0m\n\u001b[1;32m     16\u001b[0m \u001b[0;34m\u001b[0m\u001b[0m\n\u001b[0;32m---> 17\u001b[0;31m \u001b[0mprint\u001b[0m\u001b[0;34m(\u001b[0m\u001b[0mperceptron\u001b[0m\u001b[0;34m.\u001b[0m\u001b[0mpredict\u001b[0m\u001b[0;34m(\u001b[0m\u001b[0mnp\u001b[0m\u001b[0;34m.\u001b[0m\u001b[0marray\u001b[0m\u001b[0;34m(\u001b[0m\u001b[0;34m[\u001b[0m\u001b[0;34m[\u001b[0m\u001b[0;36m2\u001b[0m\u001b[0;34m,\u001b[0m\u001b[0;36m4\u001b[0m\u001b[0;34m,\u001b[0m\u001b[0;36m20\u001b[0m\u001b[0;34m,\u001b[0m\u001b[0;36m1\u001b[0m\u001b[0;34m]\u001b[0m\u001b[0;34m]\u001b[0m\u001b[0;34m)\u001b[0m\u001b[0;34m)\u001b[0m\u001b[0;34m)\u001b[0m\u001b[0;34m\u001b[0m\u001b[0;34m\u001b[0m\u001b[0m\n\u001b[0m\u001b[1;32m     18\u001b[0m \u001b[0mprint\u001b[0m\u001b[0;34m(\u001b[0m\u001b[0mperceptron\u001b[0m\u001b[0;34m.\u001b[0m\u001b[0mpredict\u001b[0m\u001b[0;34m(\u001b[0m\u001b[0mnp\u001b[0m\u001b[0;34m.\u001b[0m\u001b[0marray\u001b[0m\u001b[0;34m(\u001b[0m\u001b[0;34m[\u001b[0m\u001b[0;34m[\u001b[0m\u001b[0;36m20\u001b[0m\u001b[0;34m,\u001b[0m\u001b[0;36m100\u001b[0m\u001b[0;34m,\u001b[0m\u001b[0;34m-\u001b[0m\u001b[0;36m1\u001b[0m\u001b[0;34m,\u001b[0m\u001b[0;36m1\u001b[0m\u001b[0;34m]\u001b[0m\u001b[0;34m]\u001b[0m\u001b[0;34m)\u001b[0m\u001b[0;34m)\u001b[0m\u001b[0;34m)\u001b[0m\u001b[0;34m\u001b[0m\u001b[0;34m\u001b[0m\u001b[0m\n\u001b[1;32m     19\u001b[0m \u001b[0mprint\u001b[0m\u001b[0;34m(\u001b[0m\u001b[0mperceptron\u001b[0m\u001b[0;34m.\u001b[0m\u001b[0mpredict\u001b[0m\u001b[0;34m(\u001b[0m\u001b[0mnp\u001b[0m\u001b[0;34m.\u001b[0m\u001b[0marray\u001b[0m\u001b[0;34m(\u001b[0m\u001b[0;34m[\u001b[0m\u001b[0;34m[\u001b[0m\u001b[0;36m3\u001b[0m\u001b[0;34m,\u001b[0m\u001b[0;36m3\u001b[0m\u001b[0;34m,\u001b[0m\u001b[0;36m3\u001b[0m\u001b[0;34m,\u001b[0m\u001b[0;36m1\u001b[0m\u001b[0;34m]\u001b[0m\u001b[0;34m]\u001b[0m\u001b[0;34m)\u001b[0m\u001b[0;34m)\u001b[0m\u001b[0;34m)\u001b[0m\u001b[0;34m\u001b[0m\u001b[0;34m\u001b[0m\u001b[0m\n",
      "\u001b[0;32m/var/folders/gn/kx6xc1f932v5jmzl00v_j81c0000gn/T/ipykernel_3666/4203186772.py\u001b[0m in \u001b[0;36mpredict\u001b[0;34m(self, x)\u001b[0m\n\u001b[1;32m     26\u001b[0m         \u001b[0mx_1\u001b[0m \u001b[0;34m=\u001b[0m \u001b[0mnp\u001b[0m\u001b[0;34m.\u001b[0m\u001b[0mappend\u001b[0m\u001b[0;34m(\u001b[0m\u001b[0mx\u001b[0m\u001b[0;34m.\u001b[0m\u001b[0mcopy\u001b[0m\u001b[0;34m(\u001b[0m\u001b[0;34m)\u001b[0m\u001b[0;34m,\u001b[0m\u001b[0mones\u001b[0m\u001b[0;34m,\u001b[0m\u001b[0;36m1\u001b[0m\u001b[0;34m)\u001b[0m\u001b[0;34m\u001b[0m\u001b[0;34m\u001b[0m\u001b[0m\n\u001b[1;32m     27\u001b[0m \u001b[0;34m\u001b[0m\u001b[0m\n\u001b[0;32m---> 28\u001b[0;31m         \u001b[0;32mreturn\u001b[0m \u001b[0mself\u001b[0m\u001b[0;34m.\u001b[0m\u001b[0m__predict\u001b[0m\u001b[0;34m(\u001b[0m\u001b[0mx_1\u001b[0m\u001b[0;34m)\u001b[0m\u001b[0;34m\u001b[0m\u001b[0;34m\u001b[0m\u001b[0m\n\u001b[0m\u001b[1;32m     29\u001b[0m \u001b[0;34m\u001b[0m\u001b[0m\n\u001b[1;32m     30\u001b[0m \u001b[0;34m\u001b[0m\u001b[0m\n",
      "\u001b[0;32m/var/folders/gn/kx6xc1f932v5jmzl00v_j81c0000gn/T/ipykernel_3666/4203186772.py\u001b[0m in \u001b[0;36m__predict\u001b[0;34m(self, x)\u001b[0m\n\u001b[1;32m     10\u001b[0m \u001b[0;34m\u001b[0m\u001b[0m\n\u001b[1;32m     11\u001b[0m     \u001b[0;32mdef\u001b[0m \u001b[0m__predict\u001b[0m\u001b[0;34m(\u001b[0m\u001b[0mself\u001b[0m\u001b[0;34m,\u001b[0m \u001b[0mx\u001b[0m\u001b[0;34m)\u001b[0m\u001b[0;34m:\u001b[0m\u001b[0;34m\u001b[0m\u001b[0;34m\u001b[0m\u001b[0m\n\u001b[0;32m---> 12\u001b[0;31m         \u001b[0mtotal_stimulation\u001b[0m \u001b[0;34m=\u001b[0m \u001b[0mnp\u001b[0m\u001b[0;34m.\u001b[0m\u001b[0mdot\u001b[0m\u001b[0;34m(\u001b[0m\u001b[0mx\u001b[0m\u001b[0;34m,\u001b[0m\u001b[0mself\u001b[0m\u001b[0;34m.\u001b[0m\u001b[0mw\u001b[0m\u001b[0;34m)\u001b[0m\u001b[0;34m\u001b[0m\u001b[0;34m\u001b[0m\u001b[0m\n\u001b[0m\u001b[1;32m     13\u001b[0m         \u001b[0;31m# ***** optimised version *****\u001b[0m\u001b[0;34m\u001b[0m\u001b[0;34m\u001b[0m\u001b[0m\n\u001b[1;32m     14\u001b[0m         \u001b[0my_pred\u001b[0m \u001b[0;34m=\u001b[0m \u001b[0mnp\u001b[0m\u001b[0;34m.\u001b[0m\u001b[0mwhere\u001b[0m\u001b[0;34m(\u001b[0m\u001b[0mtotal_stimulation\u001b[0m \u001b[0;34m>\u001b[0m \u001b[0;36m0\u001b[0m\u001b[0;34m,\u001b[0m \u001b[0;36m1\u001b[0m\u001b[0;34m,\u001b[0m \u001b[0;34m-\u001b[0m\u001b[0;36m1\u001b[0m\u001b[0;34m)\u001b[0m\u001b[0;34m\u001b[0m\u001b[0;34m\u001b[0m\u001b[0m\n",
      "\u001b[0;32m<__array_function__ internals>\u001b[0m in \u001b[0;36mdot\u001b[0;34m(*args, **kwargs)\u001b[0m\n",
      "\u001b[0;31mValueError\u001b[0m: shapes (1,5) and (4,) not aligned: 5 (dim 1) != 4 (dim 0)"
     ]
    }
   ],
   "source": [
    "X = np.array([\n",
    "    [2, 4,  20],  # 2*2 - 4*4 + 20 =   8 > 0\n",
    "    [4, 3, -10],  # 2*4 - 4*3 - 10 = -14 < 0\n",
    "    [5, 6,  13],  # 2*5 - 4*6 + 13 =  -1 < 0\n",
    "    [5, 4,   8],  # 2*5 - 4*4 + 8 =    2 > 0\n",
    "    [3, 4,   5],  # 2*3 - 4*4 + 5 =   -5 < 0 \n",
    "])\n",
    " \n",
    "y = np.array([1, -1, -1, 1, -1])\n",
    "\n",
    "\n",
    "perceptron = Perceptron(eta = 0.1, epochs = 500,is_verbose=False)\n",
    "perceptron.fit(X,y)\n",
    "\n",
    "print(perceptron.w)\n",
    "\n",
    "print(perceptron.predict(np.array([[2,4,20,1]])))\n",
    "print(perceptron.predict(np.array([[20,100,-1,1]])))\n",
    "print(perceptron.predict(np.array([[3,3,3,1]])))\n",
    "    \n",
    "plt.scatter(range(perceptron.epochs),perceptron.list_of_errors)"
   ]
  },
  {
   "cell_type": "code",
   "execution_count": 6,
   "id": "3baf3118",
   "metadata": {},
   "outputs": [
    {
     "name": "stdout",
     "output_type": "stream",
     "text": [
      "[ 0.73134795 -0.85617641  0.08735113  0.3886755 ]\n",
      "[1]\n",
      "[-1]\n",
      "[1]\n"
     ]
    },
    {
     "data": {
      "text/plain": [
       "<matplotlib.collections.PathCollection at 0x7fcdf36edcd0>"
      ]
     },
     "execution_count": 6,
     "metadata": {},
     "output_type": "execute_result"
    },
    {
     "data": {
      "image/png": "[encoded data removed]",
      "text/plain": [
       "<Figure size 640x480 with 1 Axes>"
      ]
     },
     "metadata": {},
     "output_type": "display_data"
    }
   ],
   "source": [
    "X = np.array([\n",
    "    [2, 4,  20],  # 2^2 - 4^2 + 20 =  8 > 0\n",
    "    [4, 3, -10],  # 4^2 - 3^2 - 10 = -3 < 0\n",
    "    [5, 6,  13],  # 5^2 - 6^2 + 13 =  2 > 0\n",
    "    [5, 4,  -5],  # 5^2 - 4^2 - 5 =   4 > 0\n",
    "    [3, 4,   5],  # 3^2 - 4^2 + 5 =  -2 < 0 \n",
    " \n",
    "])\n",
    " \n",
    "y = np.array([1, -1, 1, 1, -1])\n",
    "\n",
    "\n",
    "perceptron = Perceptron(eta = 0.01, epochs = 200,is_verbose=False)\n",
    "perceptron.fit(X,y)\n",
    "\n",
    "print(perceptron.w)\n",
    "\n",
    "print(perceptron.predict(np.array([[2,4,20]])))\n",
    "print(perceptron.predict(np.array([[20,100,-1]])))\n",
    "print(perceptron.predict(np.array([[3,3,3]])))\n",
    "    \n",
    "plt.scatter(range(perceptron.epochs),perceptron.list_of_errors)"
   ]
  },
  {
   "cell_type": "code",
   "execution_count": 7,
   "id": "40821458",
   "metadata": {},
   "outputs": [
    {
     "name": "stdout",
     "output_type": "stream",
     "text": [
      "[(1, 1), (1, 1), (-1, -1), (1, 1), (-1, -1), (-1, -1), (-1, -1), (-1, -1), (-1, -1), (-1, -1), (1, 1), (-1, -1), (-1, -1), (1, 1), (-1, -1), (1, 1), (-1, -1), (-1, -1), (-1, -1), (1, 1)]\n",
      "0\n"
     ]
    },
    {
     "data": {
      "text/plain": [
       "<matplotlib.collections.PathCollection at 0x7fcde254f9d0>"
      ]
     },
     "execution_count": 7,
     "metadata": {},
     "output_type": "execute_result"
    },
    {
     "data": {
      "image/png": "[encoded data removed]",
      "text/plain": [
       "<Figure size 640x480 with 1 Axes>"
      ]
     },
     "metadata": {},
     "output_type": "display_data"
    }
   ],
   "source": [
    "df = pd.read_csv('data/iris.data',header = None)\n",
    "df = df.iloc[:100, :].copy()\n",
    "df[4] = df[4].apply(lambda x: 1 if x == 'Iris-setosa' else -1)\n",
    "\n",
    "X = df.iloc[:, :-1].values\n",
    "y = df.iloc[:,-1]\n",
    "\n",
    "\n",
    "X_train, X_test, y_train, y_test = train_test_split(X,y,test_size = 0.2)\n",
    "\n",
    "perceptron = Perceptron(eta = 0.01, epochs = 10)\n",
    "perceptron.fit(X_train,y_train)\n",
    "\n",
    "y_pred = perceptron.predict(X_test)\n",
    "\n",
    "print(list(zip(y_test,y_pred)))\n",
    "\n",
    "print(np.count_nonzero(y_test-y_pred))\n",
    "\n",
    "plt.scatter(range(perceptron.epochs),perceptron.list_of_errors)"
   ]
  },
  {
   "cell_type": "code",
   "execution_count": 24,
   "id": "2f7c7f08",
   "metadata": {},
   "outputs": [
    {
     "name": "stdout",
     "output_type": "stream",
     "text": [
      "0.9666666666666667\n",
      "[[-0.01938686  0.02071771 -0.02898709 -0.02501012]\n",
      " [-0.01765012 -0.02169988  0.0259065  -0.04739636]\n",
      " [-0.006018   -0.00227127  0.0420938   0.03942823]]\n",
      "7\n",
      "[ 0.   -0.01 -0.07]\n",
      "841.0\n"
     ]
    }
   ],
   "source": [
    "# df = pd.read_csv('data/iris.data',header = None)\n",
    "# df = df.iloc[:100, :].copy()\n",
    "# #df[4] = df[4].apply(lambda x: 1 if x == 'Iris-setosa' else -1)\n",
    "\n",
    "# X = df.iloc[:, :-1].values\n",
    "# y = df.iloc[:,-1]\n",
    "\n",
    "iris = datasets.load_iris()\n",
    "\n",
    "\n",
    "\n",
    "X = iris.data[:]\n",
    "y = iris.target[:]\n",
    "\n",
    "scaler = StandardScaler()\n",
    "scaler.fit(X)\n",
    "X_stand = scaler.transform(X)\n",
    "\n",
    "X_train, X_test, y_train, y_test = train_test_split(X_stand,y,test_size = 0.2)\n",
    "\n",
    "\n",
    "perceptron = pc(max_iter=20,eta0=0.01)\n",
    "perceptron.fit(X_train,y_train)\n",
    "\n",
    "y_pred = perceptron.predict(X_test)\n",
    "\n",
    "bad_res = [(a,b) for (a,b) in zip(y_test[y_test != y_pred], y_pred[y_test != y_pred]) ]\n",
    "good_res = [(a,b) for (a,b) in zip(y_test[y_test == y_pred], y_pred[y_test == y_pred]) ]\n",
    "\n",
    "print(len(good_res)/len(y_test))\n",
    "\n",
    "print(perceptron.coef_)\n",
    "print(perceptron.n_iter_)\n",
    "print(perceptron.intercept_)\n",
    "print(perceptron.t_)\n"
   ]
  },
  {
   "cell_type": "code",
   "execution_count": null,
   "id": "efa877ac",
   "metadata": {},
   "outputs": [],
   "source": []
  }
 ],
 "metadata": {
  "kernelspec": {
   "display_name": "Python 3 (ipykernel)",
   "language": "python",
   "name": "python3"
  },
  "language_info": {
   "codemirror_mode": {
    "name": "ipython",
    "version": 3
   },
   "file_extension": ".py",
   "mimetype": "text/x-python",
   "name": "python",
   "nbconvert_exporter": "python",
   "pygments_lexer": "ipython3",
   "version": "3.9.13"
  }
 },
 "nbformat": 4,
 "nbformat_minor": 5
}
